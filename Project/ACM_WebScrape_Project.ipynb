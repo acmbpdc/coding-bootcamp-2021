{
  "nbformat": 4,
  "nbformat_minor": 0,
  "metadata": {
    "colab": {
      "name": "ACM WebScrape Project",
      "provenance": [],
      "collapsed_sections": [],
      "toc_visible": true
    },
    "kernelspec": {
      "name": "python3",
      "display_name": "Python 3"
    },
    "language_info": {
      "name": "python"
    }
  },
  "cells": [
    {
      "cell_type": "markdown",
      "metadata": {
        "id": "qOa0_mwkxq3k"
      },
      "source": [
        "#**ACM BPDC**\n",
        "\n",
        "### **Web scraping is the process of gathering information from the Internet. Even copying and pasting the lyrics of your favorite song is a form of web scraping! However, the words “web scraping” usually refer to a process that involves automation. Some websites don’t like it when automatic scrapers gather their data, while others don’t mind.**"
      ]
    },
    {
      "cell_type": "markdown",
      "metadata": {
        "id": "8zCLkFisx4PZ"
      },
      "source": [
        "What is the use of **BeautifulSou**p in Python?\n",
        "Beautiful Soup is a Python library that is used for web scraping purposes to pull the data out of HTML and XML files. It creates a parse tree from page source code that can be used to extract data in a hierarchical and more readable manner."
      ]
    },
    {
      "cell_type": "code",
      "metadata": {
        "colab": {
          "base_uri": "https://localhost:8080/"
        },
        "id": "E80066ztxIo4",
        "outputId": "937b3bc3-1232-442a-f576-0b27ee7cce03"
      },
      "source": [
        "!pip install BeautifulSoup4"
      ],
      "execution_count": 2,
      "outputs": [
        {
          "output_type": "stream",
          "name": "stdout",
          "text": [
            "Requirement already satisfied: BeautifulSoup4 in /usr/local/lib/python3.7/dist-packages (4.6.3)\n"
          ]
        }
      ]
    },
    {
      "cell_type": "code",
      "metadata": {
        "id": "PFS0ubK2xPvQ"
      },
      "source": [
        "#Import BeautifulSoup library\n",
        "from bs4 import BeautifulSoup"
      ],
      "execution_count": 3,
      "outputs": []
    },
    {
      "cell_type": "markdown",
      "metadata": {
        "id": "OSFG6YGgXSnB"
      },
      "source": [
        "# **Demo**"
      ]
    },
    {
      "cell_type": "code",
      "metadata": {
        "id": "uVodFXkYXcDs"
      },
      "source": [
        "html_doc = \"\"\"<html><head><title>ACM Coding Bootcamp 2021</title></head>\n",
        "<body>\n",
        "<p class=\"title\"><b>Web Scarping</b></p>\n",
        "\n",
        "<p class=\"description\">This bootcamp will provide its audience the core foundation in this amazing field of programming by covering topics like </p><br>\n",
        "<a href=\"https://github.com/acmbpdc/coding-bootcamp-2021/blob/main/docs/01-command-line-interface\" class=\"topic\" id=\"link1\">Command Line Interface</a><br>\n",
        "<a href=\"https://github.com/acmbpdc/coding-bootcamp-2021/blob/main/docs/02-overview-of-programming-languages\" class=\"topic\" id=\"link2\">Overview of Prgramming Languages</a><br>\n",
        "<a href=\"https://github.com/acmbpdc/coding-bootcamp-2021/blob/main/docs/03-data-structures\" class=\"topic\" id=\"link3\">Data Structures</a><br>\n",
        "<a href=\"https://github.com/acmbpdc/coding-bootcamp-2021/blob/main/docs/04-algorithms\" class=\"topic\" id=\"link4\">Algorithms</a><br>\n",
        "<a href=\"https://github.com/acmbpdc/coding-bootcamp-2021/blob/main/docs/05-python-1\" class=\"topic\" id=\"link5\">Python</a><br>\n",
        "<a href=\"https://github.com/acmbpdc/coding-bootcamp-2021/blob/main/docs/07-git-and-github-1\" class=\"topic\" id=\"link6\">Git and GitHub</a><br>\n",
        "\n",
        "</body></html>\"\"\""
      ],
      "execution_count": 1,
      "outputs": []
    },
    {
      "cell_type": "code",
      "metadata": {
        "id": "Ieb6uOAcXeJ0"
      },
      "source": [
        "from bs4 import BeautifulSoup\n",
        "soup = BeautifulSoup(html_doc, 'html.parser')"
      ],
      "execution_count": 4,
      "outputs": []
    },
    {
      "cell_type": "code",
      "metadata": {
        "id": "waM4U7eNX1Nf"
      },
      "source": [
        "soup"
      ],
      "execution_count": null,
      "outputs": []
    },
    {
      "cell_type": "code",
      "metadata": {
        "id": "C9fsBs4xX6Ll"
      },
      "source": [
        "title = soup.find('p', class_ = 'title').text"
      ],
      "execution_count": 6,
      "outputs": []
    },
    {
      "cell_type": "code",
      "metadata": {
        "colab": {
          "base_uri": "https://localhost:8080/",
          "height": 35
        },
        "id": "2V54JnMrX9wR",
        "outputId": "b65d924e-cb17-4c88-d67d-bc0ff4d19ea9"
      },
      "source": [
        "title"
      ],
      "execution_count": 8,
      "outputs": [
        {
          "output_type": "execute_result",
          "data": {
            "application/vnd.google.colaboratory.intrinsic+json": {
              "type": "string"
            },
            "text/plain": [
              "'Web Scarping'"
            ]
          },
          "metadata": {},
          "execution_count": 8
        }
      ]
    },
    {
      "cell_type": "code",
      "metadata": {
        "id": "ODsXn8oBX_q-"
      },
      "source": [
        "description = soup.find('p', class_ = 'description').text"
      ],
      "execution_count": 10,
      "outputs": []
    },
    {
      "cell_type": "code",
      "metadata": {
        "colab": {
          "base_uri": "https://localhost:8080/",
          "height": 35
        },
        "id": "mwbG0J7fYBzU",
        "outputId": "cc4c576a-a091-4fc2-9658-82588b39c115"
      },
      "source": [
        "description"
      ],
      "execution_count": 11,
      "outputs": [
        {
          "output_type": "execute_result",
          "data": {
            "application/vnd.google.colaboratory.intrinsic+json": {
              "type": "string"
            },
            "text/plain": [
              "'This bootcamp will provide its audience the core foundation in this amazing field of programming by covering topics like '"
            ]
          },
          "metadata": {},
          "execution_count": 11
        }
      ]
    },
    {
      "cell_type": "code",
      "metadata": {
        "id": "6ywTaS-KYDWt"
      },
      "source": [
        "topics = soup.find_all('a')"
      ],
      "execution_count": 12,
      "outputs": []
    },
    {
      "cell_type": "code",
      "metadata": {
        "colab": {
          "base_uri": "https://localhost:8080/"
        },
        "id": "1gZpAtSFYGKQ",
        "outputId": "3aa495ee-ea50-40cf-e781-2bee6de0c5d6"
      },
      "source": [
        "topics"
      ],
      "execution_count": 13,
      "outputs": [
        {
          "output_type": "execute_result",
          "data": {
            "text/plain": [
              "[<a class=\"topic\" href=\"https://github.com/acmbpdc/coding-bootcamp-2021/blob/main/docs/01-command-line-interface\" id=\"link1\">Command Line Interface</a>,\n",
              " <a class=\"topic\" href=\"https://github.com/acmbpdc/coding-bootcamp-2021/blob/main/docs/02-overview-of-programming-languages\" id=\"link2\">Overview of Prgramming Languages</a>,\n",
              " <a class=\"topic\" href=\"https://github.com/acmbpdc/coding-bootcamp-2021/blob/main/docs/03-data-structures\" id=\"link3\">Data Structures</a>,\n",
              " <a class=\"topic\" href=\"https://github.com/acmbpdc/coding-bootcamp-2021/blob/main/docs/04-algorithms\" id=\"link4\">Algorithms</a>,\n",
              " <a class=\"topic\" href=\"https://github.com/acmbpdc/coding-bootcamp-2021/blob/main/docs/05-python-1\" id=\"link5\">Python</a>,\n",
              " <a class=\"topic\" href=\"https://github.com/acmbpdc/coding-bootcamp-2021/blob/main/docs/07-git-and-github-1\" id=\"link6\">Git and GitHub</a>]"
            ]
          },
          "metadata": {},
          "execution_count": 13
        }
      ]
    },
    {
      "cell_type": "code",
      "metadata": {
        "id": "4yKjLg-ZYIYl"
      },
      "source": [
        "topic1 = soup.find_all('a')[0]"
      ],
      "execution_count": 14,
      "outputs": []
    },
    {
      "cell_type": "code",
      "metadata": {
        "colab": {
          "base_uri": "https://localhost:8080/"
        },
        "id": "mAqtKKlFYKYi",
        "outputId": "0e332160-421e-4f63-86bf-a81484e485d6"
      },
      "source": [
        "topic1"
      ],
      "execution_count": 15,
      "outputs": [
        {
          "output_type": "execute_result",
          "data": {
            "text/plain": [
              "<a class=\"topic\" href=\"https://github.com/acmbpdc/coding-bootcamp-2021/blob/main/docs/01-command-line-interface\" id=\"link1\">Command Line Interface</a>"
            ]
          },
          "metadata": {},
          "execution_count": 15
        }
      ]
    },
    {
      "cell_type": "code",
      "metadata": {
        "id": "l-gfp5BXYMDN"
      },
      "source": [
        "topic2 = soup.find_all('a')[1]"
      ],
      "execution_count": 16,
      "outputs": []
    },
    {
      "cell_type": "code",
      "metadata": {
        "colab": {
          "base_uri": "https://localhost:8080/"
        },
        "id": "diYt1c0hYOJs",
        "outputId": "e9e22951-896f-462e-9815-e9ff969d156a"
      },
      "source": [
        "topic2"
      ],
      "execution_count": 17,
      "outputs": [
        {
          "output_type": "execute_result",
          "data": {
            "text/plain": [
              "<a class=\"topic\" href=\"https://github.com/acmbpdc/coding-bootcamp-2021/blob/main/docs/02-overview-of-programming-languages\" id=\"link2\">Overview of Prgramming Languages</a>"
            ]
          },
          "metadata": {},
          "execution_count": 17
        }
      ]
    },
    {
      "cell_type": "code",
      "metadata": {
        "id": "YKJmNQduYU01"
      },
      "source": [
        "#Alternative\n",
        "topic_1 = soup.find('a', class_ = 'topic', id = 'link1').text"
      ],
      "execution_count": 18,
      "outputs": []
    },
    {
      "cell_type": "code",
      "metadata": {
        "colab": {
          "base_uri": "https://localhost:8080/",
          "height": 35
        },
        "id": "zbBPgT8gYWWb",
        "outputId": "e014115e-d115-48f8-d15b-be60d8734e27"
      },
      "source": [
        "topic_1"
      ],
      "execution_count": 19,
      "outputs": [
        {
          "output_type": "execute_result",
          "data": {
            "application/vnd.google.colaboratory.intrinsic+json": {
              "type": "string"
            },
            "text/plain": [
              "'Command Line Interface'"
            ]
          },
          "metadata": {},
          "execution_count": 19
        }
      ]
    },
    {
      "cell_type": "markdown",
      "metadata": {
        "id": "eHyLD0ORXnO4"
      },
      "source": [
        "# **Web Scrape Drive Arabia Website**"
      ]
    },
    {
      "cell_type": "markdown",
      "metadata": {
        "id": "wo5yBOiuycIK"
      },
      "source": [
        "**Requests** will allow you to send HTTP/1.1 requests using Python. With it, you can add content like headers, form data, multipart files, and parameters via simple Python libraries. It also allows you to access the response data of Python in the same way.\n",
        "\n",
        "Urllib package is the URL handling module for python. It is used to fetch URLs (Uniform Resource Locators). It uses the urlopen function and is able to fetch URLs using a variety of different protocols.\n",
        "\n",
        "### **urllib.request** for opening and reading."
      ]
    },
    {
      "cell_type": "code",
      "metadata": {
        "id": "0IEZwroSxPyz"
      },
      "source": [
        "#Import Requests and urlopen library\n",
        "from urllib.request import Request, urlopen\n",
        "from bs4 import BeautifulSoup"
      ],
      "execution_count": null,
      "outputs": []
    },
    {
      "cell_type": "code",
      "metadata": {
        "id": "YfmNp1TUxP11"
      },
      "source": [
        "drive_arabia_url = 'https://www.drivearabia.com/carprices/uae/ford/ford-bronco/2021/'\n",
        "site= drive_arabia_url\n",
        "hdr = {'User-Agent': 'Mozilla/5.0 (Windows NT 6.1; WOW64; rv:23.0) Gecko/20100101 Firefox/23.0'}\n",
        "req = Request(site,headers=hdr)\n",
        "page = urlopen(req)\n",
        "soup = BeautifulSoup(page)"
      ],
      "execution_count": null,
      "outputs": []
    },
    {
      "cell_type": "code",
      "metadata": {
        "id": "sMXAx_5g0lP2"
      },
      "source": [
        "#Opening Raw HTML/CSS file of Drive Arabia Website\n",
        "soup"
      ],
      "execution_count": null,
      "outputs": []
    },
    {
      "cell_type": "code",
      "metadata": {
        "id": "ie9_y8loxP5I"
      },
      "source": [
        "##Finding Main Tag inside 'soup' \n",
        "tag_having_main = soup.find('main', class_ = 'main-content')"
      ],
      "execution_count": null,
      "outputs": []
    },
    {
      "cell_type": "code",
      "metadata": {
        "id": "YNlimD0b1KUK"
      },
      "source": [
        "#Opening 'tag_having_main' \n",
        "tag_having_main"
      ],
      "execution_count": null,
      "outputs": []
    },
    {
      "cell_type": "code",
      "metadata": {
        "id": "O0HNJzNzBOlc"
      },
      "source": [
        "#Finding Manufacturer Name inside 'tag_having_main' using itemprop as an arguement and converting it to text\n",
        "tag_having_manufacturer_name = tag_having_main.find('span', itemprop = 'manufacturer').text"
      ],
      "execution_count": null,
      "outputs": []
    },
    {
      "cell_type": "code",
      "metadata": {
        "colab": {
          "base_uri": "https://localhost:8080/",
          "height": 35
        },
        "id": "H4oeexAMB3e8",
        "outputId": "3e488b5c-c2cd-4751-c17e-71ed37f3ca49"
      },
      "source": [
        "#Printing 'tag_having_manufacturer_name' \n",
        "tag_having_manufacturer_name"
      ],
      "execution_count": null,
      "outputs": [
        {
          "output_type": "execute_result",
          "data": {
            "application/vnd.google.colaboratory.intrinsic+json": {
              "type": "string"
            },
            "text/plain": [
              "'Ford'"
            ]
          },
          "metadata": {},
          "execution_count": 9
        }
      ]
    },
    {
      "cell_type": "code",
      "metadata": {
        "id": "auNnUBtCCP4r"
      },
      "source": [
        "#Finding Brand Name inside 'tag_having_main' using itemprop as an arguement and converting it to text\n",
        "tag_having_brand_name = tag_having_main.find('span', itemprop = 'brand').text"
      ],
      "execution_count": null,
      "outputs": []
    },
    {
      "cell_type": "code",
      "metadata": {
        "colab": {
          "base_uri": "https://localhost:8080/",
          "height": 35
        },
        "id": "eQdxGav3CYVB",
        "outputId": "5633bb66-fbf9-4440-edf8-b96664c582ae"
      },
      "source": [
        "#Printing 'tag_having_manufacturer_name' \n",
        "tag_having_brand_name"
      ],
      "execution_count": null,
      "outputs": [
        {
          "output_type": "execute_result",
          "data": {
            "application/vnd.google.colaboratory.intrinsic+json": {
              "type": "string"
            },
            "text/plain": [
              "'Bronco'"
            ]
          },
          "metadata": {},
          "execution_count": 11
        }
      ]
    },
    {
      "cell_type": "code",
      "metadata": {
        "id": "AkxRkC2ICe0q"
      },
      "source": [
        "#Finding Model Name inside 'tag_having_main' using itemprop as an arguement and converting it to text\n",
        "tag_having_model_number = tag_having_main.find('span', itemprop = 'model').text"
      ],
      "execution_count": null,
      "outputs": []
    },
    {
      "cell_type": "code",
      "metadata": {
        "colab": {
          "base_uri": "https://localhost:8080/",
          "height": 35
        },
        "id": "oTop2Re6Ce7b",
        "outputId": "a1647058-de3c-4d4c-e384-befe671bcd89"
      },
      "source": [
        "#Printing 'tag_having_manufacturer_name' \n",
        "tag_having_model_number"
      ],
      "execution_count": null,
      "outputs": [
        {
          "output_type": "execute_result",
          "data": {
            "application/vnd.google.colaboratory.intrinsic+json": {
              "type": "string"
            },
            "text/plain": [
              "'2021'"
            ]
          },
          "metadata": {},
          "execution_count": 13
        }
      ]
    },
    {
      "cell_type": "code",
      "metadata": {
        "id": "pTcf3BE2xP8D"
      },
      "source": [
        "#Finding Tag inside 'tag_having_main' containing Car price and converting it to text\n",
        "tag_having_car_price = tag_having_main.find('span', itemprop = 'price').text"
      ],
      "execution_count": null,
      "outputs": []
    },
    {
      "cell_type": "code",
      "metadata": {
        "colab": {
          "base_uri": "https://localhost:8080/",
          "height": 35
        },
        "id": "R-ImaWHt2krK",
        "outputId": "d45b1f1a-7d71-45c5-9a40-0bbd8149adfa"
      },
      "source": [
        "#Printing 'tag_having_car_price' contaning Car price in AED\n",
        "tag_having_car_price"
      ],
      "execution_count": null,
      "outputs": [
        {
          "output_type": "execute_result",
          "data": {
            "application/vnd.google.colaboratory.intrinsic+json": {
              "type": "string"
            },
            "text/plain": [
              "'193,095'"
            ]
          },
          "metadata": {},
          "execution_count": 15
        }
      ]
    },
    {
      "cell_type": "code",
      "metadata": {
        "id": "zRqXL19R2sYO"
      },
      "source": [
        "#Finding the Tag containing Specification Table\n",
        "tag_having_table = soup.find('table', class_ = 'table table-sm table-bordered')"
      ],
      "execution_count": null,
      "outputs": []
    },
    {
      "cell_type": "code",
      "metadata": {
        "id": "E4MO1eAG9TNG",
        "colab": {
          "base_uri": "https://localhost:8080/"
        },
        "outputId": "7610a410-5046-43c3-9ed6-4a199989e80e"
      },
      "source": [
        "#Opening 'tag_having_table' \n",
        "tag_having_table"
      ],
      "execution_count": null,
      "outputs": [
        {
          "output_type": "execute_result",
          "data": {
            "text/plain": [
              "<table class=\"table table-sm table-bordered\">\n",
              "<tbody>\n",
              "<tr>\n",
              "<th>Country of Origin</th>\n",
              "<td dir=\"ltr\">United States</td>\n",
              "</tr>\n",
              "<tr>\n",
              "<th>Class</th>\n",
              "<td dir=\"ltr\" itemprop=\"bodyType\">Midsize SUV</td>\n",
              "</tr>\n",
              "<tr>\n",
              "<th>Body Styles</th>\n",
              "<td dir=\"ltr\" itemprop=\"additionalType\">5-door wagon</td>\n",
              "</tr>\n",
              "<tr>\n",
              "<th>Weight (kg)</th>\n",
              "<td dir=\"ltr\" itemprop=\"weight\">2040 - 2413</td>\n",
              "</tr>\n",
              "</tbody>\n",
              "</table>"
            ]
          },
          "metadata": {},
          "execution_count": 17
        }
      ]
    },
    {
      "cell_type": "code",
      "metadata": {
        "id": "7cQh3q_p64cP"
      },
      "source": [
        "#Finding Country of Origin inside 'tag_having_table' using 'itemprop' as an argument and converting to text\n",
        "tag_having_country_of_origin = tag_having_table.find('td', itemprop = '').text"
      ],
      "execution_count": null,
      "outputs": []
    },
    {
      "cell_type": "code",
      "metadata": {
        "colab": {
          "base_uri": "https://localhost:8080/",
          "height": 35
        },
        "id": "w1OKEA9C7HNe",
        "outputId": "451868dd-b469-4aad-db97-abf0999be2e9"
      },
      "source": [
        "#Printing 'tag_having_country_of_origin' \n",
        "tag_having_country_of_origin"
      ],
      "execution_count": null,
      "outputs": [
        {
          "output_type": "execute_result",
          "data": {
            "application/vnd.google.colaboratory.intrinsic+json": {
              "type": "string"
            },
            "text/plain": [
              "'United States'"
            ]
          },
          "metadata": {},
          "execution_count": 20
        }
      ]
    },
    {
      "cell_type": "code",
      "metadata": {
        "id": "UFzlkZKK-km9"
      },
      "source": [
        "#Finding Car Class inside 'tag_having_table' using 'itemprop' as an argument and converting to text\n",
        "tag_having_car_class = tag_having_table.find('td', itemprop = 'bodyType').text"
      ],
      "execution_count": null,
      "outputs": []
    },
    {
      "cell_type": "code",
      "metadata": {
        "colab": {
          "base_uri": "https://localhost:8080/",
          "height": 35
        },
        "id": "SvrsNn34-1Bc",
        "outputId": "ebf42542-4173-4024-96a0-3a13d1aa8a84"
      },
      "source": [
        "#Printing 'tag_having_car_class' \n",
        "tag_having_car_class"
      ],
      "execution_count": null,
      "outputs": [
        {
          "output_type": "execute_result",
          "data": {
            "application/vnd.google.colaboratory.intrinsic+json": {
              "type": "string"
            },
            "text/plain": [
              "'Midsize SUV'"
            ]
          },
          "metadata": {},
          "execution_count": 22
        }
      ]
    },
    {
      "cell_type": "code",
      "metadata": {
        "id": "CDklGwBL-1Hx"
      },
      "source": [
        "#Finding Car Body Styles inside 'tag_having_table' using 'itemprop' as an argument and converting to text\n",
        "tag_having_car_body_styles = tag_having_table.find('td', itemprop = 'additionalType').text"
      ],
      "execution_count": null,
      "outputs": []
    },
    {
      "cell_type": "code",
      "metadata": {
        "colab": {
          "base_uri": "https://localhost:8080/",
          "height": 35
        },
        "id": "A7NIjYDZ-1M4",
        "outputId": "ad0260f3-76c5-4ace-cba4-ee33f9d37107"
      },
      "source": [
        "#Printing tag_having_car_body_styles' \n",
        "tag_having_car_body_styles"
      ],
      "execution_count": null,
      "outputs": [
        {
          "output_type": "execute_result",
          "data": {
            "application/vnd.google.colaboratory.intrinsic+json": {
              "type": "string"
            },
            "text/plain": [
              "'5-door wagon'"
            ]
          },
          "metadata": {},
          "execution_count": 26
        }
      ]
    },
    {
      "cell_type": "code",
      "metadata": {
        "id": "PlCZuD50_zYb"
      },
      "source": [
        "#Finding Car Weight inside 'tag_having_table' using 'itemprop' as an argument and converting to text\n",
        "tag_having_car_weight_kg = tag_having_table.find('td', itemprop = 'weight').text"
      ],
      "execution_count": null,
      "outputs": []
    },
    {
      "cell_type": "code",
      "metadata": {
        "colab": {
          "base_uri": "https://localhost:8080/",
          "height": 35
        },
        "id": "kmbk_gOc_74U",
        "outputId": "634aa49b-6078-4559-fc84-6c4a3c055115"
      },
      "source": [
        "tag_having_car_weight_kg"
      ],
      "execution_count": null,
      "outputs": [
        {
          "output_type": "execute_result",
          "data": {
            "application/vnd.google.colaboratory.intrinsic+json": {
              "type": "string"
            },
            "text/plain": [
              "'2040 - 2413'"
            ]
          },
          "metadata": {},
          "execution_count": 28
        }
      ]
    },
    {
      "cell_type": "code",
      "metadata": {
        "id": "ZkApXQ42DVuO",
        "colab": {
          "base_uri": "https://localhost:8080/"
        },
        "outputId": "4c7fdb30-e2fd-44da-e572-55a5305a216e"
      },
      "source": [
        "print('Manufacturer Name:' + tag_having_manufacturer_name)\n",
        "print('Brand Name:' + tag_having_brand_name)\n",
        "print('Model Number:' + tag_having_model_number)\n",
        "print('Car Price (AED):' + tag_having_car_price)\n",
        "print('Country of Origin:' + tag_having_country_of_origin)\n",
        "print('Car Class:' + tag_having_car_class)\n",
        "print('Car Body Style:' + tag_having_car_body_styles)\n",
        "print('Car Weight(Kg):' + tag_having_car_weight_kg)"
      ],
      "execution_count": null,
      "outputs": [
        {
          "output_type": "stream",
          "name": "stdout",
          "text": [
            "Manufacturer Name:Ford\n",
            "Brand Name:Bronco\n",
            "Model Number:2021\n",
            "Car Price (AED):193,095\n",
            "Country of Origin:United States\n",
            "Car Class:Midsize SUV\n",
            "Car Body Style:5-door wagon\n",
            "Car Weight(Kg):2040 - 2413\n"
          ]
        }
      ]
    },
    {
      "cell_type": "markdown",
      "metadata": {
        "id": "FMQ0ktCPFRvb"
      },
      "source": [
        "# Write a Python Function that takes in the arguement \n",
        "\n",
        "\n",
        "1.   Manufacturer Name\n",
        "2.   Brand Name\n",
        "3.   Model Number\n",
        "\n",
        "# And returns the following:\n",
        "\n",
        "*   Car Price (AED)\n",
        "*   Country of Origin\n",
        "*   Car Class\n",
        "*   Body Style\n",
        "*   Car Weight (Kg)\n",
        "\n",
        "# By web scraping **Drive Arabia** Website\n"
      ]
    },
    {
      "cell_type": "code",
      "metadata": {
        "id": "p1LO7X3PEz7c"
      },
      "source": [
        "def drive_arabia(manufacturer_name,brand_name,model_number):\n",
        "  url = 'https://www.drivearabia.com/carprices/uae/' + manufacturer_name +'/' + manufacturer_name + '-' + brand_name + '/' + model_number\n",
        "  site= url\n",
        "  hdr = {'User-Agent': 'Mozilla/5.0 (Windows NT 6.1; WOW64; rv:23.0) Gecko/20100101 Firefox/23.0'}\n",
        "  req = Request(site,headers=hdr)\n",
        "  page = urlopen(req)\n",
        "  soup = BeautifulSoup(page)\n",
        "  tag_having_main = soup.find('main', class_ = 'main-content')\n",
        "  tag_having_car_price = tag_having_main.find('span', itemprop = 'price').text\n",
        "  tag_having_table = soup.find('table', class_ = 'table table-sm table-bordered')\n",
        "  tag_having_country_of_origin = tag_having_table.find('td', itemprop = '').text\n",
        "  tag_having_car_class = tag_having_table.find('td', itemprop = 'bodyType').text\n",
        "  tag_having_car_body_styles = tag_having_table.find('td', itemprop = 'additionalType').text\n",
        "  tag_having_car_weight_kg = tag_having_table.find('td', itemprop = 'weight').text\n",
        "  print('Car Price (AED): ' + tag_having_car_price)\n",
        "  print('Country of Origin: ' + tag_having_country_of_origin)\n",
        "  print('Car Class: ' + tag_having_car_class)\n",
        "  print('Car Body Style: ' + tag_having_car_body_styles)\n",
        "  print('Car Weight(Kg): ' + tag_having_car_weight_kg)\n"
      ],
      "execution_count": null,
      "outputs": []
    },
    {
      "cell_type": "code",
      "metadata": {
        "colab": {
          "base_uri": "https://localhost:8080/"
        },
        "id": "XGXtIInHIiJV",
        "outputId": "62c63ce4-cc40-40e4-9a32-a3dfaac97d39"
      },
      "source": [
        "manufacturer_name = input('Enter Manufacturer Name: ')\n",
        "brand_name = input('Enter Brand Name: ')\n",
        "model_number = input('Enter Model Number: ')\n",
        "manufacturer_name = manufacturer_name.lower()\n",
        "brand_name = brand_name.lower()"
      ],
      "execution_count": null,
      "outputs": [
        {
          "name": "stdout",
          "output_type": "stream",
          "text": [
            "Enter Manufacturer Name: cmc\n",
            "Enter Brand Name: z7\n",
            "Enter Model Number: 2017\n"
          ]
        }
      ]
    },
    {
      "cell_type": "code",
      "metadata": {
        "colab": {
          "base_uri": "https://localhost:8080/"
        },
        "id": "tHnrTcsNI5y0",
        "outputId": "809bca8a-13f9-4970-8246-c4ecae82a874"
      },
      "source": [
        "drive_arabia(manufacturer_name,brand_name,model_number)"
      ],
      "execution_count": null,
      "outputs": [
        {
          "output_type": "stream",
          "name": "stdout",
          "text": [
            "Car Price (AED): 27,000\n",
            "Country of Origin: Taiwan\n",
            "Car Class: Midsize Minivan\n",
            "Car Body Style: 5-door minivan\n",
            "Car Weight(Kg): 1700 - 1725\n"
          ]
        }
      ]
    }
  ]
}