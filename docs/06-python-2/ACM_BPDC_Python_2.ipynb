{
  "nbformat": 4,
  "nbformat_minor": 0,
  "metadata": {
    "colab": {
      "name": "ACM BPDC Python 2",
      "provenance": [],
      "collapsed_sections": []
    },
    "kernelspec": {
      "name": "python3",
      "display_name": "Python 3"
    },
    "language_info": {
      "name": "python"
    }
  },
  "cells": [
    {
      "cell_type": "markdown",
      "metadata": {
        "id": "MplU4CojcAJg"
      },
      "source": [
        "## **Tuples**\n",
        "\n",
        "In Python tuples are very similar to lists, however, unlike lists they are immutable meaning they can not be changed. You would use tuples to present things that shouldn't be changed, such as days of the week, or dates on a calendar.\n",
        "\n",
        "In this section, we will get a brief overview of the following:\n",
        "\n",
        "1.) Constructing Tuples\n",
        "\n",
        "2.) Basic Tuple Methods\n",
        "\n",
        "3.) Immutability"
      ]
    },
    {
      "cell_type": "code",
      "metadata": {
        "id": "zlVMh6owcGku"
      },
      "source": [
        "# Create a tuple\n",
        "t = (1,2,3)"
      ],
      "execution_count": null,
      "outputs": []
    },
    {
      "cell_type": "code",
      "metadata": {
        "id": "nNas3sqccH98"
      },
      "source": [
        "# Check len just like a list\n",
        "len(t)"
      ],
      "execution_count": null,
      "outputs": []
    },
    {
      "cell_type": "code",
      "metadata": {
        "id": "hNt45r0jcP6W"
      },
      "source": [
        "# Can also mix object types\n",
        "t = ('one',2)\n",
        "\n",
        "# Show\n",
        "t"
      ],
      "execution_count": null,
      "outputs": []
    },
    {
      "cell_type": "code",
      "metadata": {
        "id": "bJl_6WNrcRtH"
      },
      "source": [
        "# Use indexing just like we did in lists\n",
        "t[0]"
      ],
      "execution_count": null,
      "outputs": []
    },
    {
      "cell_type": "code",
      "metadata": {
        "id": "zbxN4eUtcTL7"
      },
      "source": [
        "# Slicing just like a list\n",
        "t[-1]"
      ],
      "execution_count": null,
      "outputs": []
    },
    {
      "cell_type": "markdown",
      "metadata": {
        "id": "o1jkeHxccWRX"
      },
      "source": [
        "## **Basic Tuple Methods**\n",
        "\n",
        "Tuples have built-in methods, but not as many as lists do. Let's look at two of them:"
      ]
    },
    {
      "cell_type": "code",
      "metadata": {
        "id": "kBRYBcVhccvr"
      },
      "source": [
        "# Use .index to enter a value and return the index\n",
        "t.index('one')"
      ],
      "execution_count": null,
      "outputs": []
    },
    {
      "cell_type": "code",
      "metadata": {
        "id": "cvI0b4mocenB"
      },
      "source": [
        "# Use .count to count the number of times a value appears\n",
        "t.count('one')"
      ],
      "execution_count": null,
      "outputs": []
    },
    {
      "cell_type": "markdown",
      "metadata": {
        "id": "SPNYwXd6cjqG"
      },
      "source": [
        "## **Immutability**\n",
        "\n",
        "It can't be stressed enough that tuples are immutable. To drive that point home:"
      ]
    },
    {
      "cell_type": "code",
      "metadata": {
        "id": "C4boi30-cojF"
      },
      "source": [
        "t[0]= 'change'"
      ],
      "execution_count": null,
      "outputs": []
    },
    {
      "cell_type": "markdown",
      "metadata": {
        "id": "symw0x2Ecr-i"
      },
      "source": [
        "Because of this immutability, tuples can't grow. Once a tuple is made we can not add to it."
      ]
    },
    {
      "cell_type": "code",
      "metadata": {
        "id": "4h5KJgN6cwSk"
      },
      "source": [
        "t.append('nope')"
      ],
      "execution_count": null,
      "outputs": []
    },
    {
      "cell_type": "markdown",
      "metadata": {
        "id": "zRtlz2fudfik"
      },
      "source": [
        "# **Introduction to Python Statements**\n",
        "\n",
        "we will be doing a quick overview of Python Statements. This lecture will emphasize differences between Python and other languages such as C++.\n",
        "\n",
        "There are two reasons we take this approach for learning the context of Python Statements:\n",
        "\n",
        "1.) If you are coming from a different language this will rapidly accelerate your understanding of Python.\n",
        "\n",
        "2.) Learning about statements will allow you to be able to read other languages more easily in the future.\n",
        "\n",
        "Python vs Other Languages\n",
        "\n",
        "Let's create a simple statement that says: \"If a is greater than b, assign 2 to a and 4 to b\"\n",
        "\n",
        "Take a look at these two if statements (we will learn about building out if statements soon).\n",
        "\n",
        "**Version 1 (Other Languages)**\n",
        "\n",
        "if (a>b){\n",
        "\n",
        "    a = 2;\n",
        "    b = 4;\n",
        "}\n",
        "\n",
        "**Version 2 (Python)**\n",
        "\n",
        "if a>b:\n",
        "\n",
        "    a = 2\n",
        "    b = 4\n",
        "\n",
        "You'll notice that Python is less cluttered and much more readable than the first version. How does Python manage this?\n",
        "\n",
        "Let's walk through the main differences:\n",
        "\n",
        "Python gets rid of () and {} by incorporating two main factors: a colon and whitespace. The statement is ended with a colon, and whitespace is used (indentation) to describe what takes place in case of the statement.\n",
        "\n",
        "Another major difference is the lack of semicolons in Python. Semicolons are used to denote statement endings in many other languages, but in Python, the end of a line is the same as the end of a statement.\n",
        "\n",
        "Lastly, to end this brief overview of differences, let's take a closer look at indentation syntax in Python vs other languages:\n",
        "\n",
        "Indentation\n",
        "Here is some pseudo-code to indicate the use of whitespace and indentation in Python:\n",
        "\n",
        "**Other Languages**\n",
        "\n",
        "if (x)\n",
        "\n",
        "    if(y)\n",
        "        code-statement;\n",
        "else\n",
        "\n",
        "    another-code-statement;\n",
        "\n",
        "\n",
        "**Python**\n",
        "\n",
        "if x:\n",
        "\n",
        "    if y:\n",
        "        code-statement\n",
        "\n",
        "else:\n",
        "\n",
        "    another-code-statement"
      ]
    },
    {
      "cell_type": "markdown",
      "metadata": {
        "id": "b6tJS4qjenJk"
      },
      "source": [
        "## **if, elif, else Statements**\n",
        "\n",
        "if Statements in Python allows us to tell the computer to perform alternative actions based on a certain set of results.\n",
        "\n",
        "Verbally, we can imagine we are telling the computer:\n",
        "\n",
        "\"Hey if this case happens, perform some action\"\n",
        "\n",
        "We can then expand the idea further with elif and else statements, which allow us to tell the computer:\n",
        "\n",
        "\"Hey if this case happens, perform some action. Else, if another case happens, perform some other action. Else, if none of the above cases happened, perform this action.\"\n",
        "\n",
        "Let's go ahead and look at the syntax format for if statements to get a better idea of this:\n",
        "\n",
        "if case1:\n",
        "\n",
        "    perform action1\n",
        "elif case2:\n",
        "\n",
        "    perform action2\n",
        "else: \n",
        "\n",
        "    perform action3"
      ]
    },
    {
      "cell_type": "markdown",
      "metadata": {
        "id": "PwL4dUAce0rK"
      },
      "source": [
        "**First Example**"
      ]
    },
    {
      "cell_type": "code",
      "metadata": {
        "colab": {
          "base_uri": "https://localhost:8080/"
        },
        "id": "OPd8G4cNeQpF",
        "outputId": "e84ac4ba-ab7a-464f-dc1a-1d9b4b232ae2"
      },
      "source": [
        "if True:\n",
        "  print('It was true!')"
      ],
      "execution_count": null,
      "outputs": [
        {
          "output_type": "stream",
          "name": "stdout",
          "text": [
            "It was true!\n"
          ]
        }
      ]
    },
    {
      "cell_type": "code",
      "metadata": {
        "colab": {
          "base_uri": "https://localhost:8080/"
        },
        "id": "cs3cN5PCe5fJ",
        "outputId": "69992c82-b80a-405e-fd86-697e06adfae5"
      },
      "source": [
        "x = False\n",
        "\n",
        "if x:\n",
        "  print('x was True!')\n",
        "else:\n",
        "  print('I will be printed in any case where x is not true')"
      ],
      "execution_count": null,
      "outputs": [
        {
          "output_type": "stream",
          "name": "stdout",
          "text": [
            "I will be printed in any case where x is not true\n"
          ]
        }
      ]
    },
    {
      "cell_type": "markdown",
      "metadata": {
        "id": "6TaZpvNOfHUo"
      },
      "source": [
        "## **Multiple Branches**\n",
        "\n",
        "Let's get a fuller picture of how far if, elif, and else can take us!\n",
        "\n",
        "We write this out in a nested structure. Take note of how the if, elif, and else line up in the code. This can help you see what if is related to what elif or else statements.\n",
        "\n",
        "We'll reintroduce a comparison syntax for Python."
      ]
    },
    {
      "cell_type": "code",
      "metadata": {
        "colab": {
          "base_uri": "https://localhost:8080/"
        },
        "id": "neoD6vDffMXf",
        "outputId": "a3db3723-aa06-4537-e940-a9575bee3870"
      },
      "source": [
        "loc = 'Bank'\n",
        "\n",
        "if loc == 'Auto Shop':\n",
        "  print('Welcome to the Auto Shop!')\n",
        "elif loc == 'Bank':\n",
        "  print('Welcome to the bank!')\n",
        "else:\n",
        "  print('Where are you?')"
      ],
      "execution_count": null,
      "outputs": [
        {
          "output_type": "stream",
          "name": "stdout",
          "text": [
            "Welcome to the bank!\n"
          ]
        }
      ]
    },
    {
      "cell_type": "code",
      "metadata": {
        "colab": {
          "base_uri": "https://localhost:8080/"
        },
        "id": "5pPq4sf1fRRb",
        "outputId": "4c88f80b-150f-419d-b236-4a161f057dfc"
      },
      "source": [
        "person = 'Sammy'\n",
        "\n",
        "if person == 'Sammy':\n",
        "  print('Welcome Sammy!')\n",
        "else:\n",
        "  print(\"Welcome, what's your name?\")"
      ],
      "execution_count": null,
      "outputs": [
        {
          "output_type": "stream",
          "name": "stdout",
          "text": [
            "Welcome Sammy!\n"
          ]
        }
      ]
    },
    {
      "cell_type": "markdown",
      "metadata": {
        "id": "qY2ELOBFfs6n"
      },
      "source": [
        "**Indentation**\n",
        "\n",
        "It is important to keep a good understanding of how indentation works in Python to maintain the structure and order of your code. We will touch on this topic again when we start building out functions!"
      ]
    },
    {
      "cell_type": "markdown",
      "metadata": {
        "id": "SkVN347VkX86"
      },
      "source": [
        "## **for Loops**\n",
        "\n",
        "A for loop acts as an iterator in Python; it goes through items that are in a sequence or any other iterable item. Objects that we've learned about that we can iterate over include strings, lists, tuples, and even built-in iterables for dictionaries, such as keys or values.\n",
        "\n",
        "We've already seen the for statement a little bit in past lectures but now let's formalize our understanding.\n",
        "\n",
        "Here's the general format for a for loop in Python:\n",
        "\n",
        "\n",
        "for item in object:\n",
        "\n",
        "    statements to do stuff"
      ]
    },
    {
      "cell_type": "markdown",
      "metadata": {
        "id": "u7WjIEobki2I"
      },
      "source": [
        "**Example 1**"
      ]
    },
    {
      "cell_type": "code",
      "metadata": {
        "id": "m7iAUO_hfoLi"
      },
      "source": [
        "# We'll learn how to automate this sort of list in the next lecture\n",
        "list1 = [1,2,3,4,5,6,7,8,9,10]"
      ],
      "execution_count": null,
      "outputs": []
    },
    {
      "cell_type": "code",
      "metadata": {
        "id": "dLhywWSpkmzk"
      },
      "source": [
        "for num in list1:\n",
        "  print(num)"
      ],
      "execution_count": null,
      "outputs": []
    },
    {
      "cell_type": "markdown",
      "metadata": {
        "id": "efF-Uxdfku0R"
      },
      "source": [
        "**Example 2**\n",
        "\n",
        "Let's print only the even numbers from that list!"
      ]
    },
    {
      "cell_type": "code",
      "metadata": {
        "id": "e09sK6q7kyXz"
      },
      "source": [
        "for num in list1:\n",
        "  if num % 2 == 0:\n",
        "    print(num)"
      ],
      "execution_count": null,
      "outputs": []
    },
    {
      "cell_type": "code",
      "metadata": {
        "id": "PlVdO59Ek939"
      },
      "source": [
        "for num in list1:\n",
        "  if num % 2 == 0:\n",
        "    print(num)\n",
        "  else:\n",
        "    print('Odd number')"
      ],
      "execution_count": null,
      "outputs": []
    },
    {
      "cell_type": "markdown",
      "metadata": {
        "id": "HL98tRpKlOrQ"
      },
      "source": [
        "**Example 3**\n",
        "\n",
        "Another common idea during a for loop is keeping some sort of running tally during multiple loops. For example, let's create a for loop that sums up the list:"
      ]
    },
    {
      "cell_type": "code",
      "metadata": {
        "id": "c3oAq5polSKG"
      },
      "source": [
        "# Start sum at zero\n",
        "list_sum = 0 \n",
        "\n",
        "for num in list1:\n",
        "  list_sum = list_sum + num\n",
        "\n",
        "print(list_sum)"
      ],
      "execution_count": null,
      "outputs": []
    },
    {
      "cell_type": "markdown",
      "metadata": {
        "id": "BnteUPjSmsPP"
      },
      "source": [
        "**Example 4**\n",
        "\n",
        "Let's now look at how a for loop can be used with a tuple:"
      ]
    },
    {
      "cell_type": "code",
      "metadata": {
        "id": "z5pX46J_mw9K"
      },
      "source": [
        "tup = (1,2,3,4,5)\n",
        "\n",
        "for t in tup:\n",
        "  print(t)"
      ],
      "execution_count": null,
      "outputs": []
    },
    {
      "cell_type": "markdown",
      "metadata": {
        "id": "lLMoGcvem0vi"
      },
      "source": [
        "**Example 5**\n",
        "\n",
        "Tuples have a special quality when it comes to for loops. If you are iterating through a sequence that contains tuples, the item can actually be the tuple itself, this is an example of tuple unpacking. During the for loop we will be unpacking the tuple inside of a sequence and we can access the individual items inside that tuple!"
      ]
    },
    {
      "cell_type": "code",
      "metadata": {
        "id": "dmLM0S9-m0bB"
      },
      "source": [
        "list2 = [(2,4),(6,8),(10,12)]"
      ],
      "execution_count": null,
      "outputs": []
    },
    {
      "cell_type": "code",
      "metadata": {
        "colab": {
          "base_uri": "https://localhost:8080/"
        },
        "id": "D5YN5Zzum8Mw",
        "outputId": "8d7b9b93-2d4b-4587-96ba-e279980a35fd"
      },
      "source": [
        "for tup in list2:\n",
        "  print(tup)"
      ],
      "execution_count": null,
      "outputs": [
        {
          "output_type": "stream",
          "name": "stdout",
          "text": [
            "(2, 4)\n",
            "(6, 8)\n",
            "(10, 12)\n"
          ]
        }
      ]
    },
    {
      "cell_type": "code",
      "metadata": {
        "id": "lKLyDGt5nJDE"
      },
      "source": [
        "# Now with unpacking!\n",
        "for (t1,t2) in list2:\n",
        "  print(t1)"
      ],
      "execution_count": null,
      "outputs": []
    },
    {
      "cell_type": "markdown",
      "metadata": {
        "id": "PGn7y08YnONy"
      },
      "source": [
        "**Example 6**"
      ]
    },
    {
      "cell_type": "code",
      "metadata": {
        "id": "IN8TZDbqnNw4"
      },
      "source": [
        "d = {'k1':1,'k2':2,'k3':3}"
      ],
      "execution_count": null,
      "outputs": []
    },
    {
      "cell_type": "code",
      "metadata": {
        "id": "LrgCTOG2nc_9"
      },
      "source": [
        "for item in d:\n",
        "  print(item)"
      ],
      "execution_count": null,
      "outputs": []
    },
    {
      "cell_type": "markdown",
      "metadata": {
        "id": "xo89Krj5nvKK"
      },
      "source": [
        "Notice how this produces only the keys. So how can we get the values? Or both the keys and the values?\n",
        "\n",
        "We're going to introduce three new Dictionary methods: .keys(), .values() and .items()\n",
        "\n",
        "In Python each of these methods return a dictionary view object. It supports operations like membership test and iteration, but its contents are not independent of the original dictionary – it is only a view. Let's see it in action:"
      ]
    },
    {
      "cell_type": "code",
      "metadata": {
        "colab": {
          "base_uri": "https://localhost:8080/"
        },
        "id": "t0IwBjI_nxuT",
        "outputId": "09826039-bafd-4d09-8fd0-0c76f3c2c576"
      },
      "source": [
        "# Create a dictionary view object\n",
        "d.items()"
      ],
      "execution_count": null,
      "outputs": [
        {
          "output_type": "execute_result",
          "data": {
            "text/plain": [
              "dict_items([('k1', 1), ('k2', 2), ('k3', 3)])"
            ]
          },
          "metadata": {},
          "execution_count": 13
        }
      ]
    },
    {
      "cell_type": "markdown",
      "metadata": {
        "id": "eTsKeEnzn40t"
      },
      "source": [
        "Since the .items() method supports iteration, we can perform dictionary unpacking to separate keys and values just as we did in the previous examples."
      ]
    },
    {
      "cell_type": "code",
      "metadata": {
        "id": "9sY3RoRPn07H"
      },
      "source": [
        "# Dictionary unpacking\n",
        "for k,v in d.items():\n",
        "  print(k)\n",
        "  print(v)"
      ],
      "execution_count": null,
      "outputs": []
    },
    {
      "cell_type": "markdown",
      "metadata": {
        "id": "Nyn6BEQrn-cC"
      },
      "source": [
        "If you want to obtain a true list of keys, values, or key/value tuples, you can cast the view as a list:"
      ]
    },
    {
      "cell_type": "code",
      "metadata": {
        "id": "d8bDUdVroAnW"
      },
      "source": [
        "list(d.keys())\n"
      ],
      "execution_count": null,
      "outputs": []
    },
    {
      "cell_type": "markdown",
      "metadata": {
        "id": "K0dCie-soF52"
      },
      "source": [
        "Remember that dictionaries are unordered, and that keys and values come back in arbitrary order. You can obtain a sorted list using sorted():"
      ]
    },
    {
      "cell_type": "code",
      "metadata": {
        "id": "2O_g939aoHr3"
      },
      "source": [
        "sorted(d.values())"
      ],
      "execution_count": null,
      "outputs": []
    },
    {
      "cell_type": "markdown",
      "metadata": {
        "id": "JKgYonGzpht6"
      },
      "source": [
        "## **while Loops**\n",
        "\n",
        "The while statement in Python is one of most general ways to perform iteration. A while statement will repeatedly execute a single statement or group of statements as long as the condition is true. The reason it is called a 'loop' is because the code statements are looped through over and over again until the condition is no longer met.\n",
        "\n",
        "The general format of a while loop is:\n",
        "\n",
        "while test:\n",
        "\n",
        "    code statements\n",
        "else:\n",
        "\n",
        "    final code statements"
      ]
    },
    {
      "cell_type": "code",
      "metadata": {
        "id": "_EKsDHjxpo0K"
      },
      "source": [
        "x = 0\n",
        "\n",
        "while x < 10:\n",
        "  print('x is currently: ',x)\n",
        "  print(' x is still less than 10, adding 1 to x')\n",
        "  x+=1"
      ],
      "execution_count": null,
      "outputs": []
    },
    {
      "cell_type": "code",
      "metadata": {
        "id": "UQCihRwhptVU"
      },
      "source": [
        "x = 0\n",
        "\n",
        "while x < 10:\n",
        "  print('x is currently: ',x)\n",
        "  print(' x is still less than 10, adding 1 to x')\n",
        "  x+=1\n",
        "    \n",
        "else:\n",
        "  print('All Done!')"
      ],
      "execution_count": null,
      "outputs": []
    },
    {
      "cell_type": "markdown",
      "metadata": {
        "id": "ZGQhtcDfp8zj"
      },
      "source": [
        "## **break, continue, pass**\n",
        "\n",
        "We can use break, continue, and pass statements in our loops to add additional functionality for various cases. The three statements are defined by:\n",
        "\n",
        "break: Breaks out of the current closest enclosing loop.\n",
        "continue: Goes to the top of the closest enclosing loop.\n",
        "pass: Does nothing at all.\n",
        "\n",
        "\n",
        "Thinking about break and continue statements, the general format of the while loop looks like this:\n",
        "\n",
        "while test: \n",
        "\n",
        "    code statement\n",
        "    if test: \n",
        "        break\n",
        "    if test: \n",
        "        continue \n",
        "else:\n",
        "\n",
        "\n",
        "break and continue statements can appear anywhere inside the loop’s body, but we will usually put them further nested in conjunction with an if statement to perform an action based on some condition.\n"
      ]
    },
    {
      "cell_type": "code",
      "metadata": {
        "id": "9lpXB0iLpxqW"
      },
      "source": [
        "x = 0\n",
        "\n",
        "while x < 10:\n",
        "  print('x is currently: ',x)\n",
        "  print(' x is still less than 10, adding 1 to x')\n",
        "  x+=1\n",
        "  if x==3:\n",
        "    print('x==3')\n",
        "  else:\n",
        "    print('continuing...')\n",
        "    continue"
      ],
      "execution_count": null,
      "outputs": []
    },
    {
      "cell_type": "code",
      "metadata": {
        "id": "Dh4ifx0iqRoU"
      },
      "source": [
        "x = 0\n",
        "\n",
        "while x < 10:\n",
        "  print('x is currently: ',x)\n",
        "  print(' x is still less than 10, adding 1 to x')\n",
        "  x+=1\n",
        "  if x==3:\n",
        "    print('Breaking because x==3')\n",
        "    break\n",
        "  else:\n",
        "    print('continuing...')\n",
        "    continue"
      ],
      "execution_count": null,
      "outputs": []
    },
    {
      "cell_type": "code",
      "metadata": {
        "id": "b1BPO2TAqZoj"
      },
      "source": [
        "# DO NOT RUN THIS CODE!!!! \n",
        "while True:\n",
        "  print(\"I'm stuck in an infinite loop!\")"
      ],
      "execution_count": null,
      "outputs": []
    },
    {
      "cell_type": "markdown",
      "metadata": {
        "id": "rxk4T7bEvtJa"
      },
      "source": [
        "## **Useful Operators**\n",
        "\n",
        "There are a few built-in functions and \"operators\" in Python that don't fit well into any category, so we will go over them in this lecture, let's begin!\n",
        "\n",
        "**range**\n",
        "\n",
        "The range function allows you to quickly generate a list of integers, this comes in handy a lot, so take note of how to use it! There are 3 parameters you can pass, a start, a stop, and a step size. Let's see some examples:"
      ]
    },
    {
      "cell_type": "code",
      "metadata": {
        "id": "dQUZt7L5v2lz"
      },
      "source": [
        "# Notice how 11 is not included, up to but not including 11, just like slice notation!\n",
        "list(range(0,11))"
      ],
      "execution_count": null,
      "outputs": []
    },
    {
      "cell_type": "code",
      "metadata": {
        "id": "vPNjspVMwLad"
      },
      "source": [
        "list(range(0,12))"
      ],
      "execution_count": null,
      "outputs": []
    },
    {
      "cell_type": "code",
      "metadata": {
        "id": "ecJqglLawNIJ"
      },
      "source": [
        "# Third parameter is step size!\n",
        "# step size just means how big of a jump/leap/step you \n",
        "# take from the starting number to get to the next number.\n",
        "\n",
        "list(range(0,11,2))"
      ],
      "execution_count": null,
      "outputs": []
    },
    {
      "cell_type": "code",
      "metadata": {
        "id": "SowxcH9zwPRR"
      },
      "source": [
        "list(range(0,101,10))"
      ],
      "execution_count": null,
      "outputs": []
    },
    {
      "cell_type": "markdown",
      "metadata": {
        "id": "tuiiuFpiwblc"
      },
      "source": [
        "**zip**"
      ]
    },
    {
      "cell_type": "code",
      "metadata": {
        "id": "YCE492XwwbPY"
      },
      "source": [
        "mylist1 = [1,2,3,4,5]\n",
        "mylist2 = ['a','b','c','d','e']"
      ],
      "execution_count": null,
      "outputs": []
    },
    {
      "cell_type": "code",
      "metadata": {
        "id": "PenJ5A7uwiSu"
      },
      "source": [
        "list(zip(mylist1,mylist2))"
      ],
      "execution_count": null,
      "outputs": []
    },
    {
      "cell_type": "markdown",
      "metadata": {
        "id": "Dff5srNAwmYL"
      },
      "source": [
        "**min and max**"
      ]
    },
    {
      "cell_type": "code",
      "metadata": {
        "id": "JtsHa8b4wqOw"
      },
      "source": [
        "mylist = [10,20,30,40,100]"
      ],
      "execution_count": null,
      "outputs": []
    },
    {
      "cell_type": "code",
      "metadata": {
        "id": "R8q-QMSmwsH0"
      },
      "source": [
        "min(mylist)"
      ],
      "execution_count": null,
      "outputs": []
    },
    {
      "cell_type": "code",
      "metadata": {
        "id": "qOAJVllXwtkj"
      },
      "source": [
        "max(mylist)"
      ],
      "execution_count": null,
      "outputs": []
    },
    {
      "cell_type": "markdown",
      "metadata": {
        "id": "jcnPVG3Ewz04"
      },
      "source": [
        "**random**\n",
        "\n",
        "Python comes with a built in random library. There are a lot of functions included in this random library, so we will only show you two useful functions for now."
      ]
    },
    {
      "cell_type": "code",
      "metadata": {
        "id": "aSHt9Vrzwx0M"
      },
      "source": [
        "from random import shuffle"
      ],
      "execution_count": null,
      "outputs": []
    },
    {
      "cell_type": "code",
      "metadata": {
        "id": "eGJM_WmUw9XG"
      },
      "source": [
        "# This shuffles the list \"in-place\" meaning it won't return\n",
        "# anything, instead it will effect the list passed\n",
        "shuffle(mylist)"
      ],
      "execution_count": null,
      "outputs": []
    },
    {
      "cell_type": "code",
      "metadata": {
        "colab": {
          "base_uri": "https://localhost:8080/"
        },
        "id": "9Nyx3QNlw_at",
        "outputId": "3132a95a-38de-4a43-d2ff-b8b6a92e2740"
      },
      "source": [
        "mylist"
      ],
      "execution_count": null,
      "outputs": [
        {
          "output_type": "execute_result",
          "data": {
            "text/plain": [
              "[20, 10, 30, 100, 40]"
            ]
          },
          "metadata": {},
          "execution_count": 19
        }
      ]
    },
    {
      "cell_type": "code",
      "metadata": {
        "id": "A9ALJhUxxD5O"
      },
      "source": [
        "from random import randint"
      ],
      "execution_count": null,
      "outputs": []
    },
    {
      "cell_type": "code",
      "metadata": {
        "id": "AV-1kdUUxFcz"
      },
      "source": [
        "# Return random integer in range [a, b], including both end points.\n",
        "randint(0,100)"
      ],
      "execution_count": null,
      "outputs": []
    },
    {
      "cell_type": "code",
      "metadata": {
        "id": "r8vs6DSxxI7C"
      },
      "source": [
        "# Return random integer in range [a, b], including both end points.\n",
        "randint(0,100)"
      ],
      "execution_count": null,
      "outputs": []
    },
    {
      "cell_type": "markdown",
      "metadata": {
        "id": "RbCMUgiWxOAj"
      },
      "source": [
        "**input**"
      ]
    },
    {
      "cell_type": "code",
      "metadata": {
        "colab": {
          "base_uri": "https://localhost:8080/",
          "height": 52
        },
        "id": "IcHIbO_BxQ1K",
        "outputId": "743eb5c5-1e07-4ad3-9022-71332dc372b5"
      },
      "source": [
        "input('Enter Something into this box: ')"
      ],
      "execution_count": null,
      "outputs": [
        {
          "name": "stdout",
          "output_type": "stream",
          "text": [
            "Enter Something into this box: hi\n"
          ]
        },
        {
          "output_type": "execute_result",
          "data": {
            "application/vnd.google.colaboratory.intrinsic+json": {
              "type": "string"
            },
            "text/plain": [
              "'hi'"
            ]
          },
          "metadata": {},
          "execution_count": 20
        }
      ]
    },
    {
      "cell_type": "markdown",
      "metadata": {
        "id": "LRkRT2m900DC"
      },
      "source": [
        "#**Functions**\n",
        "\n",
        "## **Introduction to Functions**\n",
        "This lecture will consist of explaining what a function is in Python and how to create one. Functions will be one of our main building blocks when we construct larger and larger amounts of code to solve problems.\n",
        "\n",
        "**What is a function?**\n",
        "\n",
        "Formally, a function is a useful device that groups together a set of statements so they can be run more than once. They can also let us specify parameters that can serve as inputs to the functions.\n",
        "\n",
        "On a more fundamental level, functions allow us to not have to repeatedly write the same code again and again. If you remember back to the lessons on strings and lists, remember that we used a function len() to get the length of a string. Since checking the length of a sequence is a common task you would want to write a function that can do this repeatedly at command.\n",
        "\n",
        "Functions will be one of most basic levels of reusing code in Python, and it will also allow us to start thinking of program design (we will dive much deeper into the ideas of design when we learn about Object Oriented Programming).\n",
        "\n",
        "**Why even use functions?**\n",
        "\n",
        "Put simply, you should use functions when you plan on using a block of code multiple times. The function will allow you to call the same block of code without having to write it multiple times. This in turn will allow you to create more complex Python scripts. To really understand this though, we should actually write our own functions!"
      ]
    },
    {
      "cell_type": "markdown",
      "metadata": {
        "id": "r3ty_jVL1fy9"
      },
      "source": [
        "## **def keyword**\n",
        "\n",
        "Let's see how to build out a function's syntax in Python. It has the following form:"
      ]
    },
    {
      "cell_type": "code",
      "metadata": {
        "id": "e6eVt3cz0VgO"
      },
      "source": [
        "\n",
        "def name_of_function(arg1,arg2):\n",
        "    '''\n",
        "    This is where the function's Document String (docstring) goes.\n",
        "    When you call help() on your function it will be printed out.\n",
        "    '''\n",
        "    # Do stuff here\n",
        "    # Return desired result"
      ],
      "execution_count": null,
      "outputs": []
    },
    {
      "cell_type": "markdown",
      "metadata": {
        "id": "fCIQYBJe1oBc"
      },
      "source": [
        "We begin with def then a space followed by the name of the function. Try to keep names relevant, for example len() is a good name for a length() function. Also be careful with names, you wouldn't want to call a function the same name as a built-in function in Python (such as len).\n",
        "\n",
        "Next come a pair of parentheses with a number of arguments separated by a comma. These arguments are the inputs for your function. You'll be able to use these inputs in your function and reference them. After this you put a colon.\n",
        "\n",
        "Now here is the important step, you must indent to begin the code inside your function correctly. Python makes use of whitespace to organize code. Lots of other programing languages do not do this, so keep that in mind.\n",
        "\n",
        "Next you'll see the docstring, this is where you write a basic description of the function. Using Jupyter and Jupyter Notebooks, you'll be able to read these docstrings by pressing Shift+Tab after a function name. Docstrings are not necessary for simple functions, but it's good practice to put them in so you or other people can easily understand the code you write.\n",
        "\n",
        "After all this you begin writing the code you wish to execute."
      ]
    },
    {
      "cell_type": "markdown",
      "metadata": {
        "id": "KIVaoVi41uA2"
      },
      "source": [
        "**Simple example of a function**"
      ]
    },
    {
      "cell_type": "code",
      "metadata": {
        "id": "UrTeUsNK1rvr"
      },
      "source": [
        "def say_hello():\n",
        "  print('hello')"
      ],
      "execution_count": null,
      "outputs": []
    },
    {
      "cell_type": "markdown",
      "metadata": {
        "id": "7g-pUcLW11Nl"
      },
      "source": [
        "**Calling a function with ()**\n",
        "\n",
        "Call the function:"
      ]
    },
    {
      "cell_type": "code",
      "metadata": {
        "id": "v1QjV2eo1y0t"
      },
      "source": [
        "say_hello()"
      ],
      "execution_count": null,
      "outputs": []
    },
    {
      "cell_type": "markdown",
      "metadata": {
        "id": "Db_XDuSf17zr"
      },
      "source": [
        "If you forget the parenthesis (), it will simply display the fact that say_hello is a function. Later on we will learn we can actually pass in functions into other functions! But for now, simply remember to call functions with ()."
      ]
    },
    {
      "cell_type": "code",
      "metadata": {
        "id": "sRi0w9g51-LQ"
      },
      "source": [
        "say_hello"
      ],
      "execution_count": null,
      "outputs": []
    },
    {
      "cell_type": "markdown",
      "metadata": {
        "id": "b1SGL23S2CXj"
      },
      "source": [
        "**Accepting parameters (arguments)**\n",
        "\n",
        "Let's write a function that greets people with their name."
      ]
    },
    {
      "cell_type": "code",
      "metadata": {
        "id": "B16fOWPf1_1O"
      },
      "source": [
        "def greeting(name):\n",
        "  print(f'Hello {name}')"
      ],
      "execution_count": null,
      "outputs": []
    },
    {
      "cell_type": "code",
      "metadata": {
        "id": "sEKwIDzp2IXm"
      },
      "source": [
        "greeting('ACM BPDC')"
      ],
      "execution_count": null,
      "outputs": []
    },
    {
      "cell_type": "markdown",
      "metadata": {
        "id": "XC9APT2W2sfA"
      },
      "source": [
        "## **Using return**\n",
        "\n",
        "So far we've only seen print() used, but if we actually want to save the resulting variable we need to use the return keyword.\n",
        "\n",
        "Let's see some example that use a return statement. return allows a function to return a result that can then be stored as a variable, or used in whatever manner a user wants.\n",
        "\n",
        "**Example: Addition function**"
      ]
    },
    {
      "cell_type": "code",
      "metadata": {
        "id": "cHZWQ5UY2xuh"
      },
      "source": [
        "def add_num(num1,num2):\n",
        "  return num1+num2"
      ],
      "execution_count": null,
      "outputs": []
    },
    {
      "cell_type": "code",
      "metadata": {
        "id": "iz7G_fJq247Q"
      },
      "source": [
        "add_num(4,5)"
      ],
      "execution_count": null,
      "outputs": []
    },
    {
      "cell_type": "code",
      "metadata": {
        "id": "EACe4yhY26qq"
      },
      "source": [
        "# Can also save as variable due to return\n",
        "result = add_num(4,5)"
      ],
      "execution_count": null,
      "outputs": []
    },
    {
      "cell_type": "code",
      "metadata": {
        "id": "d83K4QL127Ma"
      },
      "source": [
        "print(result)"
      ],
      "execution_count": null,
      "outputs": []
    },
    {
      "cell_type": "markdown",
      "metadata": {
        "id": "NxYpyF913Ct3"
      },
      "source": [
        "### **Very Common Question: \"What is the difference between return and print?\"**\n",
        "\n",
        "The return keyword allows you to actually save the result of the output of a function as a variable. The print() function simply displays the output to you, but doesn't save it for future use. Let's explore this in more detail"
      ]
    },
    {
      "cell_type": "code",
      "metadata": {
        "id": "HMyK53_T3FyH"
      },
      "source": [
        "def print_result(a,b):\n",
        "  print(a+b)"
      ],
      "execution_count": null,
      "outputs": []
    },
    {
      "cell_type": "code",
      "metadata": {
        "id": "bpKmm8tc46Zf"
      },
      "source": [
        "def return_result(a,b):\n",
        "  return a+b"
      ],
      "execution_count": null,
      "outputs": []
    },
    {
      "cell_type": "code",
      "metadata": {
        "id": "MSCNOuY249eu"
      },
      "source": [
        "print_result(10,5)"
      ],
      "execution_count": null,
      "outputs": []
    },
    {
      "cell_type": "code",
      "metadata": {
        "id": "Qc8KRwxV4_I1"
      },
      "source": [
        "# You won't see any output if you run this in a .py script\n",
        "return_result(10,5)"
      ],
      "execution_count": null,
      "outputs": []
    },
    {
      "cell_type": "markdown",
      "metadata": {
        "id": "6vnK0-Vl5FB7"
      },
      "source": [
        "**But what happens if we actually want to save this result for later use?**"
      ]
    },
    {
      "cell_type": "code",
      "metadata": {
        "id": "KyLByhGP5HjK"
      },
      "source": [
        "my_result = print_result(20,20)"
      ],
      "execution_count": null,
      "outputs": []
    },
    {
      "cell_type": "code",
      "metadata": {
        "id": "ifZski385JNe"
      },
      "source": [
        "my_result"
      ],
      "execution_count": null,
      "outputs": []
    },
    {
      "cell_type": "code",
      "metadata": {
        "id": "aiOMlwSy5Mbs"
      },
      "source": [
        "type(my_result)"
      ],
      "execution_count": null,
      "outputs": []
    },
    {
      "cell_type": "markdown",
      "metadata": {
        "id": "5HEhqwFM5R8s"
      },
      "source": [
        "**Be careful! Notice how print_result() doesn't let you actually save the result to a variable! It only prints it out, with print() returning None for the assignment!**"
      ]
    },
    {
      "cell_type": "code",
      "metadata": {
        "id": "vmkJe81T5UYX"
      },
      "source": [
        "my_result = return_result(20,20)"
      ],
      "execution_count": null,
      "outputs": []
    },
    {
      "cell_type": "code",
      "metadata": {
        "id": "tjzlBIFe5YJU"
      },
      "source": [
        "my_result"
      ],
      "execution_count": null,
      "outputs": []
    },
    {
      "cell_type": "markdown",
      "metadata": {
        "id": "chKmD52z5kvE"
      },
      "source": [
        "**Check Even**"
      ]
    },
    {
      "cell_type": "code",
      "metadata": {
        "id": "OjM-xnDJ5Ztj"
      },
      "source": [
        "def even_check(number):\n",
        "  return number % 2 == 0"
      ],
      "execution_count": null,
      "outputs": []
    },
    {
      "cell_type": "code",
      "metadata": {
        "id": "BXYahe0o5q8p"
      },
      "source": [
        "even_check(20)"
      ],
      "execution_count": null,
      "outputs": []
    },
    {
      "cell_type": "code",
      "metadata": {
        "id": "C7eN40iJ5sXq"
      },
      "source": [
        "even_check(21)"
      ],
      "execution_count": null,
      "outputs": []
    },
    {
      "cell_type": "markdown",
      "metadata": {
        "id": "PCg_Abax6VN2"
      },
      "source": [
        "## **Check if any number in a list is even**\n",
        "\n",
        "Let's return a boolean indicating if any number in a list is even."
      ]
    },
    {
      "cell_type": "code",
      "metadata": {
        "id": "hkzned246Zpx"
      },
      "source": [
        "def check_even_list(num_list):\n",
        "  # Write Logic Here"
      ],
      "execution_count": null,
      "outputs": []
    },
    {
      "cell_type": "markdown",
      "metadata": {
        "id": "nF4tF0w36oRX"
      },
      "source": [
        "## **Return all even numbers in a list**\n",
        "\n",
        "Let's add more complexity, we now will return all the even numbers in a list, otherwise return an empty list."
      ]
    },
    {
      "cell_type": "code",
      "metadata": {
        "id": "px7MbIy26q24"
      },
      "source": [
        "def return_even_list(num_list):\n",
        "  # Write Logic Here"
      ],
      "execution_count": null,
      "outputs": []
    }
  ]
}